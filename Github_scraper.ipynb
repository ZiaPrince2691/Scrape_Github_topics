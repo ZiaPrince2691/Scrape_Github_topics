{
 "cells": [
  {
   "cell_type": "markdown",
   "metadata": {},
   "source": [
    "# Getting List of Most Discussed Topics on Github and Corresponding Repositories"
   ]
  },
  {
   "cell_type": "markdown",
   "metadata": {},
   "source": [
    "### Importing Packages"
   ]
  },
  {
   "cell_type": "code",
   "execution_count": 162,
   "metadata": {},
   "outputs": [],
   "source": [
    "import requests\n",
    "import pandas as pd\n",
    "from bs4 import BeautifulSoup"
   ]
  },
  {
   "cell_type": "markdown",
   "metadata": {},
   "source": [
    "### Defining Functions"
   ]
  },
  {
   "cell_type": "code",
   "execution_count": 163,
   "metadata": {},
   "outputs": [],
   "source": [
    "# To get the DataFrame containing the datails of each topic\n",
    "def get_topics_info(url):\n",
    "    res = requests.get(url)\n",
    "    soup = BeautifulSoup(res.text , 'html.parser')\n",
    "\n",
    "    topic_names = []\n",
    "    topic_desc = []\n",
    "    topic_url = []\n",
    "\n",
    "    topic_name_tags = soup.find_all('p' , class_ = 'f3 lh-condensed mb-0 mt-1 Link--primary')\n",
    "    for topic_name_tag in topic_name_tags:\n",
    "        topic_names.append(topic_name_tag.text)\n",
    "        \n",
    "    topic_desc_tags = soup.find_all('p' , class_ = 'f5 color-fg-muted mb-0 mt-1')\n",
    "    for topic_desc_tag in topic_desc_tags:\n",
    "        topic_desc.append(topic_desc_tag.text.strip())\n",
    "\n",
    "    topic_url_tags = soup.find_all('a' , class_ = 'no-underline flex-grow-0')\n",
    "    for topic_url_tag in topic_url_tags:\n",
    "        topic_url.append('https://github.com'+topic_url_tag.get('href'))\n",
    "\n",
    "    topic_dict = {\n",
    "        \"Topic Name\" : topic_names,\n",
    "        \"Topic Description\" : topic_desc,\n",
    "        \"Topic Url\" : topic_url,\n",
    "    }\n",
    "\n",
    "    df = pd.DataFrame(topic_dict)\n",
    "    return df\n",
    "\n",
    "# To get the repositories related to given topic\n",
    "def get_repo_info(url):    \n",
    "    res = requests.get('https://github.com/topics/3d')\n",
    "    soup = BeautifulSoup(res.text , 'html.parser')\n",
    "\n",
    "    repo_names = []\n",
    "    usernames = []\n",
    "    url = []\n",
    "    stars = []\n",
    "\n",
    "    repo_tags = soup.find_all('h3' , class_ = 'f3 color-fg-muted text-normal lh-condensed')\n",
    "    for repo_tag in repo_tags:\n",
    "        a_tags = repo_tag.find_all('a')\n",
    "        repo_names.append(a_tags[0].text.strip())\n",
    "        usernames.append(a_tags[1].text.strip())\n",
    "        url.append( 'https://github.com' + a_tags[1].get('href'))\n",
    "\n",
    "    star_tags = soup.find_all('span' , class_ = 'Counter js-social-count')\n",
    "    for star_tag in star_tags:\n",
    "        star = int(float(star_tag.text.removesuffix('k')) * 1000)\n",
    "        stars.append(star)\n",
    "\n",
    "    repo_dict = {\n",
    "        'Repo Name' : repo_names,\n",
    "        'Username' : usernames,\n",
    "        'Url' : url,\n",
    "        'Stars' : stars\n",
    "    }\n",
    "\n",
    "    df = pd.DataFrame(repo_dict)\n",
    "    return df"
   ]
  },
  {
   "cell_type": "markdown",
   "metadata": {},
   "source": [
    "### Creating Files"
   ]
  },
  {
   "cell_type": "code",
   "execution_count": 164,
   "metadata": {},
   "outputs": [
    {
     "data": {
      "text/plain": [
       "30"
      ]
     },
     "execution_count": 164,
     "metadata": {},
     "output_type": "execute_result"
    }
   ],
   "source": [
    "url = 'https://github.com/topics'\n",
    "\n",
    "df_topics = get_topics_info(url)\n",
    "df_topics.to_csv('List of most discussed topics.csv')\n",
    "len(df_topics)"
   ]
  },
  {
   "cell_type": "code",
   "execution_count": 165,
   "metadata": {},
   "outputs": [],
   "source": [
    "for name,link in zip(df_topics['Topic Name'] , df_topics['Topic Url']):\n",
    "    df_repo = get_repo_info(link)\n",
    "    df_repo.to_csv(f'Topic_Repositories\\\\{name}.csv')\n",
    "    len(df_repo)\n"
   ]
  }
 ],
 "metadata": {
  "kernelspec": {
   "display_name": ".venv",
   "language": "python",
   "name": "python3"
  },
  "language_info": {
   "codemirror_mode": {
    "name": "ipython",
    "version": 3
   },
   "file_extension": ".py",
   "mimetype": "text/x-python",
   "name": "python",
   "nbconvert_exporter": "python",
   "pygments_lexer": "ipython3",
   "version": "3.12.4"
  }
 },
 "nbformat": 4,
 "nbformat_minor": 2
}
